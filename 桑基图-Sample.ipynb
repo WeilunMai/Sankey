{
 "cells": [
  {
   "cell_type": "code",
   "execution_count": 2,
   "metadata": {},
   "outputs": [],
   "source": [
    "import pandas as pd "
   ]
  },
  {
   "cell_type": "code",
   "execution_count": 52,
   "metadata": {},
   "outputs": [
    {
     "data": {
      "text/html": [
       "<div>\n",
       "<style scoped>\n",
       "    .dataframe tbody tr th:only-of-type {\n",
       "        vertical-align: middle;\n",
       "    }\n",
       "\n",
       "    .dataframe tbody tr th {\n",
       "        vertical-align: top;\n",
       "    }\n",
       "\n",
       "    .dataframe thead th {\n",
       "        text-align: right;\n",
       "    }\n",
       "</style>\n",
       "<table border=\"1\" class=\"dataframe\">\n",
       "  <thead>\n",
       "    <tr style=\"text-align: right;\">\n",
       "      <th></th>\n",
       "      <th>国家</th>\n",
       "      <th>年龄段</th>\n",
       "      <th>确诊人数</th>\n",
       "      <th>死亡人数</th>\n",
       "      <th>康复人数</th>\n",
       "    </tr>\n",
       "  </thead>\n",
       "  <tbody>\n",
       "    <tr>\n",
       "      <th>0</th>\n",
       "      <td>中国</td>\n",
       "      <td>18岁以下</td>\n",
       "      <td>40</td>\n",
       "      <td>5</td>\n",
       "      <td>35</td>\n",
       "    </tr>\n",
       "    <tr>\n",
       "      <th>1</th>\n",
       "      <td>中国</td>\n",
       "      <td>19-50岁</td>\n",
       "      <td>80</td>\n",
       "      <td>2</td>\n",
       "      <td>78</td>\n",
       "    </tr>\n",
       "    <tr>\n",
       "      <th>2</th>\n",
       "      <td>中国</td>\n",
       "      <td>50-70岁</td>\n",
       "      <td>450</td>\n",
       "      <td>80</td>\n",
       "      <td>370</td>\n",
       "    </tr>\n",
       "    <tr>\n",
       "      <th>3</th>\n",
       "      <td>中国</td>\n",
       "      <td>70岁以上</td>\n",
       "      <td>120</td>\n",
       "      <td>40</td>\n",
       "      <td>80</td>\n",
       "    </tr>\n",
       "  </tbody>\n",
       "</table>\n",
       "</div>"
      ],
      "text/plain": [
       "   国家     年龄段 确诊人数 死亡人数 康复人数\n",
       "0  中国   18岁以下   40    5   35\n",
       "1  中国  19-50岁   80    2   78\n",
       "2  中国  50-70岁  450   80  370\n",
       "3  中国   70岁以上  120   40   80"
      ]
     },
     "execution_count": 52,
     "metadata": {},
     "output_type": "execute_result"
    }
   ],
   "source": [
    "db = pd.DataFrame({\n",
    "    '国家':[\"中国\", \"中国\", \"中国\", \"中国\"],\n",
    "    '年龄段':[\"18岁以下\", \"19-50岁\", \"50-70岁\", \"70岁以上\"],\n",
    "    '确诊人数':[\"40\", \"80\", \"450\", \"120\"],\n",
    "    '死亡人数':[\"5\", \"2\", \"80\", \"40\"],\n",
    "    '康复人数':[\"35\", \"78\", \"370\", \"80\"]\n",
    "})\n",
    "db"
   ]
  },
  {
   "cell_type": "code",
   "execution_count": 53,
   "metadata": {},
   "outputs": [
    {
     "data": {
      "text/plain": [
       "[{'name': '中国'},\n",
       " {'name': '18岁以下'},\n",
       " {'name': '19-50岁'},\n",
       " {'name': '50-70岁'},\n",
       " {'name': '70岁以上'},\n",
       " {'name': '死亡人数'},\n",
       " {'name': '康复人数'}]"
      ]
     },
     "execution_count": 53,
     "metadata": {},
     "output_type": "execute_result"
    }
   ],
   "source": [
    "nodes = []\n",
    "for i in range(2):\n",
    "    values = db.iloc[:, i].unique() #array(['18岁以下', '19-50岁', '50-70岁', '70岁以上'], dtype=object)\n",
    "    for value in values:\n",
    "        dic={}\n",
    "        dic['name'] = value\n",
    "        nodes.append(dic)\n",
    "\n",
    "nodes.append({'name': '死亡人数'})\n",
    "nodes.append({'name': '康复人数'})\n",
    "nodes"
   ]
  },
  {
   "cell_type": "code",
   "execution_count": 54,
   "metadata": {},
   "outputs": [
    {
     "name": "stdout",
     "output_type": "stream",
     "text": [
      "[{'source': '中国', 'target': '18岁以下', 'value': '40'}, {'source': '18岁以下', 'target': '死亡人数', 'value': '5'}, {'source': '18岁以下', 'target': '康复人数', 'value': '35'}, {'source': '中国', 'target': '19-50岁', 'value': '80'}, {'source': '19-50岁', 'target': '死亡人数', 'value': '2'}, {'source': '19-50岁', 'target': '康复人数', 'value': '78'}, {'source': '中国', 'target': '50-70岁', 'value': '450'}, {'source': '50-70岁', 'target': '死亡人数', 'value': '80'}, {'source': '50-70岁', 'target': '康复人数', 'value': '370'}, {'source': '中国', 'target': '70岁以上', 'value': '120'}, {'source': '70岁以上', 'target': '死亡人数', 'value': '40'}, {'source': '70岁以上', 'target': '康复人数', 'value': '80'}]\n"
     ]
    }
   ],
   "source": [
    "links = []\n",
    "for i in db.values:\n",
    "    dic={}\n",
    "    dic['source'] = i[0]\n",
    "    dic['target'] = i[1]\n",
    "    dic['value'] = i[2]\n",
    "    links.append({\"source\":i[0], 'target':i[1], 'value':i[2]})\n",
    "    links.append({\"source\":i[1], 'target':db.keys()[3], 'value':i[3]})\n",
    "    links.append({\"source\":i[1], 'target':db.keys()[4], 'value':i[4]})\n",
    "print(links)"
   ]
  },
  {
   "cell_type": "markdown",
   "metadata": {},
   "source": [
    "! pip install pyecharts"
   ]
  },
  {
   "cell_type": "code",
   "execution_count": 58,
   "metadata": {},
   "outputs": [
    {
     "data": {
      "text/plain": [
       "'C:\\\\Users\\\\Allen Mai\\\\数据分析项目\\\\test.html'"
      ]
     },
     "execution_count": 58,
     "metadata": {},
     "output_type": "execute_result"
    }
   ],
   "source": [
    "from pyecharts.charts import Sankey\n",
    "from pyecharts import options as opts\n",
    "\n",
    "pic = (\n",
    "    Sankey().add(\"\",\n",
    "                nodes,\n",
    "                links,\n",
    "                linestyle_opt=opts.LineStyleOpts(width= 0.6, opacity=0.4, curve=0.5, color= 'source'),\n",
    "                label_opts=opts.LabelOpts(position= 'top'),\n",
    "                node_gap= 30,\n",
    "                ).set_global_opts(title_opts=opts.TitleOpts(title=\"COVID-19\"))\n",
    ")\n",
    "pic.render('test.html')"
   ]
  }
 ],
 "metadata": {
  "kernelspec": {
   "display_name": "Python 3",
   "language": "python",
   "name": "python3"
  },
  "language_info": {
   "codemirror_mode": {
    "name": "ipython",
    "version": 3
   },
   "file_extension": ".py",
   "mimetype": "text/x-python",
   "name": "python",
   "nbconvert_exporter": "python",
   "pygments_lexer": "ipython3",
   "version": "3.8.5"
  }
 },
 "nbformat": 4,
 "nbformat_minor": 4
}
